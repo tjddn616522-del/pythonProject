{
 "cells": [
  {
   "cell_type": "markdown",
   "id": "8395f8cc",
   "metadata": {},
   "source": [
    "## 2025-09-19"
   ]
  },
  {
   "cell_type": "code",
   "execution_count": 47,
   "id": "0e065381",
   "metadata": {},
   "outputs": [
    {
     "name": "stdout",
     "output_type": "stream",
     "text": [
      "안녕 이제 파이썬을 시작하려고 해\n"
     ]
    }
   ],
   "source": [
    "print(\"안녕 이제 파이썬을 시작하려고 해\")"
   ]
  },
  {
   "cell_type": "code",
   "execution_count": 48,
   "id": "3f72e6e3",
   "metadata": {},
   "outputs": [
    {
     "name": "stdout",
     "output_type": "stream",
     "text": [
      "20\n"
     ]
    }
   ],
   "source": [
    "print(10+10)"
   ]
  },
  {
   "cell_type": "code",
   "execution_count": 49,
   "id": "9434b076",
   "metadata": {},
   "outputs": [
    {
     "data": {
      "text/plain": [
       "str"
      ]
     },
     "execution_count": 49,
     "metadata": {},
     "output_type": "execute_result"
    }
   ],
   "source": [
    "type('Hello World')"
   ]
  },
  {
   "cell_type": "code",
   "execution_count": 50,
   "id": "c90eb499",
   "metadata": {},
   "outputs": [
    {
     "data": {
      "text/plain": [
       "str"
      ]
     },
     "execution_count": 50,
     "metadata": {},
     "output_type": "execute_result"
    }
   ],
   "source": [
    "type('100')"
   ]
  },
  {
   "cell_type": "code",
   "execution_count": 51,
   "id": "9b43517a",
   "metadata": {},
   "outputs": [
    {
     "data": {
      "text/plain": [
       "bool"
      ]
     },
     "execution_count": 51,
     "metadata": {},
     "output_type": "execute_result"
    }
   ],
   "source": [
    "type(True)"
   ]
  },
  {
   "cell_type": "code",
   "execution_count": 52,
   "id": "5999dc1f",
   "metadata": {},
   "outputs": [
    {
     "data": {
      "text/plain": [
       "float"
      ]
     },
     "execution_count": 52,
     "metadata": {},
     "output_type": "execute_result"
    }
   ],
   "source": [
    "type(3.14)"
   ]
  },
  {
   "cell_type": "markdown",
   "id": "c4ffbec5",
   "metadata": {},
   "source": [
    "## 변수"
   ]
  },
  {
   "cell_type": "code",
   "execution_count": 53,
   "id": "f0bf7122",
   "metadata": {},
   "outputs": [],
   "source": [
    "mynumber = 100"
   ]
  },
  {
   "cell_type": "code",
   "execution_count": 54,
   "id": "4a394612",
   "metadata": {},
   "outputs": [
    {
     "data": {
      "text/plain": [
       "100"
      ]
     },
     "execution_count": 54,
     "metadata": {},
     "output_type": "execute_result"
    }
   ],
   "source": [
    "mynumber"
   ]
  },
  {
   "cell_type": "code",
   "execution_count": 55,
   "id": "aa37699e",
   "metadata": {},
   "outputs": [
    {
     "data": {
      "text/plain": [
       "int"
      ]
     },
     "execution_count": 55,
     "metadata": {},
     "output_type": "execute_result"
    }
   ],
   "source": [
    "type(mynumber)"
   ]
  },
  {
   "cell_type": "markdown",
   "id": "d49fac09",
   "metadata": {},
   "source": [
    "#### 연산자"
   ]
  },
  {
   "cell_type": "code",
   "execution_count": null,
   "id": "bac28f53",
   "metadata": {},
   "outputs": [],
   "source": [
    "+, -, *, /, //, %, **"
   ]
  },
  {
   "cell_type": "code",
   "execution_count": null,
   "id": "dd4c2811",
   "metadata": {},
   "outputs": [],
   "source": [
    "num1 = 7\n",
    "num2 = 3"
   ]
  },
  {
   "cell_type": "code",
   "execution_count": null,
   "id": "9c6e63a9",
   "metadata": {},
   "outputs": [
    {
     "data": {
      "text/plain": [
       "10"
      ]
     },
     "execution_count": 30,
     "metadata": {},
     "output_type": "execute_result"
    }
   ],
   "source": [
    "num1 + num2"
   ]
  },
  {
   "cell_type": "code",
   "execution_count": null,
   "id": "1d1db2b9",
   "metadata": {},
   "outputs": [
    {
     "data": {
      "text/plain": [
       "2.3333333333333335"
      ]
     },
     "execution_count": 31,
     "metadata": {},
     "output_type": "execute_result"
    }
   ],
   "source": [
    "num1 / num2"
   ]
  },
  {
   "cell_type": "code",
   "execution_count": null,
   "id": "ceb668cd",
   "metadata": {},
   "outputs": [
    {
     "data": {
      "text/plain": [
       "2"
      ]
     },
     "execution_count": 32,
     "metadata": {},
     "output_type": "execute_result"
    }
   ],
   "source": [
    "num1 // num2"
   ]
  },
  {
   "cell_type": "code",
   "execution_count": null,
   "id": "79510b62",
   "metadata": {},
   "outputs": [
    {
     "data": {
      "text/plain": [
       "1"
      ]
     },
     "execution_count": 33,
     "metadata": {},
     "output_type": "execute_result"
    }
   ],
   "source": [
    "num1 % num2"
   ]
  },
  {
   "cell_type": "code",
   "execution_count": null,
   "id": "f47e6fbf",
   "metadata": {},
   "outputs": [
    {
     "data": {
      "text/plain": [
       "343"
      ]
     },
     "execution_count": 34,
     "metadata": {},
     "output_type": "execute_result"
    }
   ],
   "source": [
    "num1 ** num2"
   ]
  },
  {
   "cell_type": "code",
   "execution_count": 58,
   "id": "3e708164",
   "metadata": {},
   "outputs": [],
   "source": [
    "str1 = \"Hello\"\n",
    "str2 = \"World\""
   ]
  },
  {
   "cell_type": "code",
   "execution_count": 61,
   "id": "d98e5b55",
   "metadata": {},
   "outputs": [
    {
     "data": {
      "text/plain": [
       "'HelloWorld'"
      ]
     },
     "execution_count": 61,
     "metadata": {},
     "output_type": "execute_result"
    }
   ],
   "source": [
    "str1 + str2"
   ]
  },
  {
   "cell_type": "markdown",
   "id": "5783483e",
   "metadata": {},
   "source": [
    "#### 비교연산자"
   ]
  },
  {
   "cell_type": "code",
   "execution_count": null,
   "id": "5893b760",
   "metadata": {},
   "outputs": [],
   "source": [
    "같다, 다르다, 크다, 작다\n",
    "==, !=, >, <, >=, <="
   ]
  },
  {
   "cell_type": "code",
   "execution_count": 63,
   "id": "39a23f43",
   "metadata": {},
   "outputs": [
    {
     "data": {
      "text/plain": [
       "False"
      ]
     },
     "execution_count": 63,
     "metadata": {},
     "output_type": "execute_result"
    }
   ],
   "source": [
    "5 == 3"
   ]
  },
  {
   "cell_type": "code",
   "execution_count": null,
   "id": "d10809bc",
   "metadata": {},
   "outputs": [],
   "source": [
    "str1 = \"Hello\"\n",
    "str2 = \"World\""
   ]
  },
  {
   "cell_type": "code",
   "execution_count": 65,
   "id": "eceb4317",
   "metadata": {},
   "outputs": [
    {
     "name": "stdout",
     "output_type": "stream",
     "text": [
      "Hello World\n"
     ]
    }
   ],
   "source": [
    "print(str1 + \" \" + str2)"
   ]
  },
  {
   "cell_type": "code",
   "execution_count": 67,
   "id": "e999aa35",
   "metadata": {},
   "outputs": [
    {
     "name": "stdout",
     "output_type": "stream",
     "text": [
      "Hello World Hello Hello\n"
     ]
    }
   ],
   "source": [
    "print(str1, str2, str1, str1)"
   ]
  },
  {
   "cell_type": "markdown",
   "id": "e3c9fc84",
   "metadata": {},
   "source": [
    "#### 사용자입력"
   ]
  },
  {
   "cell_type": "code",
   "execution_count": 74,
   "id": "e2f16ad2",
   "metadata": {},
   "outputs": [
    {
     "name": "stdout",
     "output_type": "stream",
     "text": [
      "이름은 황선우 입니다\n"
     ]
    }
   ],
   "source": [
    "name = input(\"이름을 입력하세요:\")\n",
    "print(\"이름은\", name, \"입니다\")"
   ]
  },
  {
   "cell_type": "code",
   "execution_count": null,
   "id": "e54d7d8c",
   "metadata": {},
   "outputs": [],
   "source": [
    "num1 = 7\n",
    "num2 = 3"
   ]
  },
  {
   "cell_type": "code",
   "execution_count": null,
   "id": "7b16e6bb",
   "metadata": {},
   "outputs": [],
   "source": [
    "# 미션\n",
    "# 사용자로부터 숫자 입력을 받아서 +, -. *. / 연산 결과를 출력해주세요."
   ]
  },
  {
   "cell_type": "code",
   "execution_count": 75,
   "id": "506814e3",
   "metadata": {},
   "outputs": [],
   "source": [
    "num1 = input(\"첫 번째 숫자를 입력하세요\")\n",
    "num2 = input(\"두 번재 숫자를 입력하세요\")"
   ]
  },
  {
   "cell_type": "code",
   "execution_count": 77,
   "id": "481e79b1",
   "metadata": {},
   "outputs": [
    {
     "data": {
      "text/plain": [
       "'73'"
      ]
     },
     "execution_count": 77,
     "metadata": {},
     "output_type": "execute_result"
    }
   ],
   "source": [
    "num1 + num2"
   ]
  },
  {
   "cell_type": "code",
   "execution_count": 80,
   "id": "faa01a32",
   "metadata": {},
   "outputs": [
    {
     "data": {
      "text/plain": [
       "str"
      ]
     },
     "execution_count": 80,
     "metadata": {},
     "output_type": "execute_result"
    }
   ],
   "source": [
    "type(num1)"
   ]
  },
  {
   "cell_type": "code",
   "execution_count": 81,
   "id": "4825a081",
   "metadata": {},
   "outputs": [
    {
     "data": {
      "text/plain": [
       "str"
      ]
     },
     "execution_count": 81,
     "metadata": {},
     "output_type": "execute_result"
    }
   ],
   "source": [
    "type(num2)"
   ]
  },
  {
   "cell_type": "markdown",
   "id": "e1e9b1a6",
   "metadata": {},
   "source": [
    "#### 형변환"
   ]
  },
  {
   "cell_type": "code",
   "execution_count": null,
   "id": "af74cfb8",
   "metadata": {},
   "outputs": [],
   "source": [
    "int(), float(), str(), "
   ]
  },
  {
   "cell_type": "code",
   "execution_count": 82,
   "id": "6b2c0ede",
   "metadata": {},
   "outputs": [
    {
     "data": {
      "text/plain": [
       "7"
      ]
     },
     "execution_count": 82,
     "metadata": {},
     "output_type": "execute_result"
    }
   ],
   "source": [
    "int('7')"
   ]
  },
  {
   "cell_type": "code",
   "execution_count": 85,
   "id": "e78b7223",
   "metadata": {},
   "outputs": [],
   "source": [
    "num1 = int(input(\"첫 번재 숫자를 입력하세요: \"))\n",
    "num2 = int(input(\"두 번째 숫자를 입력하세요: \"))"
   ]
  },
  {
   "cell_type": "code",
   "execution_count": 87,
   "id": "7a18d7af",
   "metadata": {},
   "outputs": [
    {
     "name": "stdout",
     "output_type": "stream",
     "text": [
      "4\n"
     ]
    }
   ],
   "source": [
    "print(num1-num2)"
   ]
  },
  {
   "cell_type": "code",
   "execution_count": null,
   "id": "db0e8990",
   "metadata": {},
   "outputs": [],
   "source": [
    "mynumber\n",
    "my_number\n",
    "myNumber"
   ]
  },
  {
   "cell_type": "code",
   "execution_count": 90,
   "id": "5ef98caf",
   "metadata": {},
   "outputs": [
    {
     "name": "stdout",
     "output_type": "stream",
     "text": [
      "\"안녕\"이라고 말했다\n",
      "순간'바본가'라고 생각했다.\n",
      "\"안녕\"이라고말했다.\n"
     ]
    }
   ],
   "source": [
    "print('\"안녕\"이라고 말했다')\n",
    "print(\"순간'바본가'라고 생각했다.\")\n",
    "print(\"\\\"안녕\\\"이라고말했다.\")"
   ]
  },
  {
   "cell_type": "code",
   "execution_count": 91,
   "id": "cd6c764a",
   "metadata": {},
   "outputs": [],
   "source": [
    "sentense = \"\"\"\n",
    "안녕\n",
    "반가워\n",
    "추워\n",
    "\"\"\""
   ]
  },
  {
   "cell_type": "code",
   "execution_count": 92,
   "id": "b7fb364d",
   "metadata": {},
   "outputs": [
    {
     "name": "stdout",
     "output_type": "stream",
     "text": [
      "\n",
      "안녕\n",
      "반가워\n",
      "추워\n",
      "\n"
     ]
    }
   ],
   "source": [
    "print(sentense)"
   ]
  },
  {
   "cell_type": "code",
   "execution_count": 94,
   "id": "d8e55046",
   "metadata": {},
   "outputs": [
    {
     "name": "stdout",
     "output_type": "stream",
     "text": [
      "'낮말'은 새가 듣고 '밤말'은 쥐가 듣는다.\n"
     ]
    }
   ],
   "source": [
    "print(\"'낮말'은 새가 듣고 '밤말'은 쥐가 듣는다.\")"
   ]
  },
  {
   "cell_type": "code",
   "execution_count": 102,
   "id": "21ba734e",
   "metadata": {},
   "outputs": [
    {
     "name": "stdout",
     "output_type": "stream",
     "text": [
      "Hello,Hello,Hello,Hello,Hello "
     ]
    }
   ],
   "source": [
    "print(\"Hello\",\"Hello\",\"Hello\",\"Hello\",\"Hello\", end=\" \", sep=\",\")"
   ]
  },
  {
   "cell_type": "code",
   "execution_count": 96,
   "id": "62eaa4c8",
   "metadata": {},
   "outputs": [
    {
     "name": "stdout",
     "output_type": "stream",
     "text": [
      "HelloHelloHelloHelloHello\n"
     ]
    }
   ],
   "source": [
    "print(\"Hello\"*5)"
   ]
  },
  {
   "cell_type": "code",
   "execution_count": 104,
   "id": "d2bc9521",
   "metadata": {},
   "outputs": [
    {
     "name": "stdout",
     "output_type": "stream",
     "text": [
      "7 + 3 = 10\n",
      "7 + 3 = 10\n"
     ]
    }
   ],
   "source": [
    "# f-string\n",
    "num1 = 7\n",
    "num2 = 3\n",
    "\n",
    "print(num1, \"+\", num2, \"=\", num1 + num2)\n",
    "print(f\"{num1} + {num2} = {num1+num2}\")"
   ]
  },
  {
   "cell_type": "markdown",
   "id": "8df01910",
   "metadata": {},
   "source": [
    "#### bool 자료형"
   ]
  },
  {
   "cell_type": "code",
   "execution_count": null,
   "id": "0bddf2b9",
   "metadata": {},
   "outputs": [],
   "source": [
    "True 참, False 거짓"
   ]
  },
  {
   "cell_type": "code",
   "execution_count": 107,
   "id": "f4031e2d",
   "metadata": {},
   "outputs": [
    {
     "data": {
      "text/plain": [
       "True"
      ]
     },
     "execution_count": 107,
     "metadata": {},
     "output_type": "execute_result"
    }
   ],
   "source": [
    "1 == 1"
   ]
  },
  {
   "cell_type": "code",
   "execution_count": 108,
   "id": "517c509f",
   "metadata": {},
   "outputs": [
    {
     "data": {
      "text/plain": [
       "bool"
      ]
     },
     "execution_count": 108,
     "metadata": {},
     "output_type": "execute_result"
    }
   ],
   "source": [
    "type(True)"
   ]
  },
  {
   "cell_type": "code",
   "execution_count": 109,
   "id": "0b025357",
   "metadata": {},
   "outputs": [
    {
     "name": "stdout",
     "output_type": "stream",
     "text": [
      "<class 'bool'>\n"
     ]
    }
   ],
   "source": [
    "print(type(True))"
   ]
  },
  {
   "cell_type": "code",
   "execution_count": null,
   "id": "165dfae3",
   "metadata": {},
   "outputs": [],
   "source": [
    "int(), str(), float(), bool()"
   ]
  },
  {
   "cell_type": "code",
   "execution_count": 112,
   "id": "998bdbd1",
   "metadata": {},
   "outputs": [
    {
     "data": {
      "text/plain": [
       "False"
      ]
     },
     "execution_count": 112,
     "metadata": {},
     "output_type": "execute_result"
    }
   ],
   "source": [
    "bool(0)"
   ]
  },
  {
   "cell_type": "code",
   "execution_count": 113,
   "id": "1ab32396",
   "metadata": {},
   "outputs": [
    {
     "data": {
      "text/plain": [
       "True"
      ]
     },
     "execution_count": 113,
     "metadata": {},
     "output_type": "execute_result"
    }
   ],
   "source": [
    "bool(1)"
   ]
  },
  {
   "cell_type": "code",
   "execution_count": 114,
   "id": "bb8ac1cd",
   "metadata": {},
   "outputs": [
    {
     "data": {
      "text/plain": [
       "True"
      ]
     },
     "execution_count": 114,
     "metadata": {},
     "output_type": "execute_result"
    }
   ],
   "source": [
    "bool(100)"
   ]
  },
  {
   "cell_type": "code",
   "execution_count": 115,
   "id": "5c1ee999",
   "metadata": {},
   "outputs": [
    {
     "data": {
      "text/plain": [
       "True"
      ]
     },
     "execution_count": 115,
     "metadata": {},
     "output_type": "execute_result"
    }
   ],
   "source": [
    "bool(-1)"
   ]
  },
  {
   "cell_type": "code",
   "execution_count": 116,
   "id": "36228c42",
   "metadata": {},
   "outputs": [
    {
     "data": {
      "text/plain": [
       "False"
      ]
     },
     "execution_count": 116,
     "metadata": {},
     "output_type": "execute_result"
    }
   ],
   "source": [
    "bool('')"
   ]
  },
  {
   "cell_type": "code",
   "execution_count": 118,
   "id": "fd374f2a",
   "metadata": {},
   "outputs": [],
   "source": [
    "김밥_가격 = 3000\n",
    "떡볶이_가격 = 3500\n",
    "라면_가격 = 2500"
   ]
  },
  {
   "cell_type": "code",
   "execution_count": 119,
   "id": "de04a52a",
   "metadata": {},
   "outputs": [],
   "source": [
    "김밥_주문수 = int(input(\"김밥 주문개수: \"))\n",
    "떡볶이_주문수 = int(input(\"떡볶이 주문개수: \"))\n",
    "라면_주문수 = int(input(\"라면 주문개수: \"))"
   ]
  },
  {
   "cell_type": "code",
   "execution_count": 120,
   "id": "9c398946",
   "metadata": {},
   "outputs": [],
   "source": [
    "# 총 금액 계산\n",
    "총_금액 = (김밥_가격 * 김밥_주문수) + (떡볶이_가격 * 떡볶이_주문수) + (라면_가격 * 라면_주문수)"
   ]
  },
  {
   "cell_type": "code",
   "execution_count": 121,
   "id": "1d62db25",
   "metadata": {},
   "outputs": [
    {
     "name": "stdout",
     "output_type": "stream",
     "text": [
      "김밥 주문개수 : 2\n",
      "떡볶이 주문개수 : 1\n",
      "라면 주문개수 : 2\n",
      "지불하실 금액은 14500원입니다.\n"
     ]
    }
   ],
   "source": [
    "# 결과 출력\n",
    "print(f\"김밥 주문개수 : {김밥_주문수}\")\n",
    "print(f\"떡볶이 주문개수 : {떡볶이_주문수}\")\n",
    "print(f\"라면 주문개수 : {라면_주문수}\")\n",
    "print(f\"지불하실 금액은 {총_금액}원입니다.\")"
   ]
  },
  {
   "cell_type": "code",
   "execution_count": null,
   "id": "a6bcb16b",
   "metadata": {},
   "outputs": [],
   "source": [
    "print(\"Hello\")\n",
    "print(\"Hello\")\n",
    "print(\"아 졸려\")\n",
    "print(\"Hello\")"
   ]
  },
  {
   "cell_type": "markdown",
   "id": "b5eb5692",
   "metadata": {},
   "source": [
    "#### 조건문"
   ]
  },
  {
   "cell_type": "code",
   "execution_count": null,
   "id": "ee71de39",
   "metadata": {},
   "outputs": [],
   "source": [
    "# 조건에 따라서 명렁어의 실행여부가 결정\n",
    "\n",
    "if 조건:\n",
    "    실행할명령\n",
    "\n",
    "조건문밖의 명령어\n"
   ]
  },
  {
   "cell_type": "code",
   "execution_count": 128,
   "id": "11cb5715",
   "metadata": {},
   "outputs": [
    {
     "name": "stdout",
     "output_type": "stream",
     "text": [
      "택시도 탄다\n",
      "조건문종료\n"
     ]
    }
   ],
   "source": [
    "money = False\n",
    "\n",
    "if money: \n",
    "    print(\"스테이크를 먹는다\")\n",
    "    print(\"커피를 마신다\")\n",
    "print(\"택시도 탄다\")\n",
    "print('조건문종료')"
   ]
  },
  {
   "cell_type": "code",
   "execution_count": null,
   "id": "a94da7bf",
   "metadata": {},
   "outputs": [],
   "source": [
    "if 조건 :\n",
    "    수행할명령\n",
    "else:\n",
    "    다른명령"
   ]
  },
  {
   "cell_type": "code",
   "execution_count": null,
   "id": "dbe486e9",
   "metadata": {},
   "outputs": [],
   "source": [
    "if 조건:\n",
    "    수행할명령\n",
    "elif 조건2:\n",
    "    수행할명령2\n",
    "elif 조건3:\n",
    "    수행할명령...\n",
    "else :\n",
    "    나머지에대한명령"
   ]
  },
  {
   "cell_type": "code",
   "execution_count": 130,
   "id": "5b54473d",
   "metadata": {},
   "outputs": [
    {
     "name": "stdout",
     "output_type": "stream",
     "text": [
      "짝수\n"
     ]
    }
   ],
   "source": [
    "# 짝수홀수구분\n",
    "\n",
    "# num % 2 == 0 -> 짝수\n",
    "\n",
    "num = 2\n",
    "\n",
    "if num % 2 == 0:\n",
    "    print('짝수')\n",
    "else:\n",
    "    print('홀수')\n"
   ]
  },
  {
   "cell_type": "code",
   "execution_count": 131,
   "id": "6983303d",
   "metadata": {},
   "outputs": [
    {
     "name": "stdout",
     "output_type": "stream",
     "text": [
      "작아요\n"
     ]
    }
   ],
   "source": [
    "num = 10\n",
    "\n",
    "\n",
    "if num > 100:\n",
    "    print('너무커요')\n",
    "else:\n",
    "    print('작아요')\n"
   ]
  },
  {
   "cell_type": "code",
   "execution_count": null,
   "id": "fed9ba2b",
   "metadata": {},
   "outputs": [],
   "source": [
    "and, or"
   ]
  },
  {
   "cell_type": "code",
   "execution_count": 133,
   "id": "8e60f2e3",
   "metadata": {},
   "outputs": [
    {
     "name": "stdout",
     "output_type": "stream",
     "text": [
      "스티커\n"
     ]
    }
   ],
   "source": [
    "eng = 80\n",
    "math = 100\n",
    "\n",
    "if eng >=90 or math >= 90:\n",
    "    print('스티커')\n",
    "else: \n",
    "    print('좀 더 노력하세요')"
   ]
  },
  {
   "cell_type": "code",
   "execution_count": 139,
   "id": "acbb91c5",
   "metadata": {},
   "outputs": [
    {
     "name": "stdout",
     "output_type": "stream",
     "text": [
      "C\n"
     ]
    }
   ],
   "source": [
    "score = int(input(\"점수를 입력하세요: \"))\n",
    "\n",
    "# 점수에 따라 학점을 판별합니다.\n",
    "if score >= 90:\n",
    "    print('A')\n",
    "elif score >= 80:\n",
    "    print('B')\n",
    "elif score >= 70:\n",
    "    print('C')\n",
    "elif score >= 60:\n",
    "    print('D')\n",
    "else:\n",
    "    print('F')"
   ]
  },
  {
   "cell_type": "markdown",
   "id": "412aac30",
   "metadata": {},
   "source": [
    "#### 반복문"
   ]
  },
  {
   "cell_type": "markdown",
   "id": "302dba36",
   "metadata": {},
   "source": [
    "for, while"
   ]
  },
  {
   "cell_type": "code",
   "execution_count": null,
   "id": "26ab8b6e",
   "metadata": {},
   "outputs": [],
   "source": [
    "for 변수 in 이터러블 :\n",
    "    반복할문장"
   ]
  },
  {
   "cell_type": "code",
   "execution_count": 147,
   "id": "181d7044",
   "metadata": {},
   "outputs": [
    {
     "name": "stdout",
     "output_type": "stream",
     "text": [
      "1번째 Hello\n",
      "3번째 Hello\n",
      "5번째 Hello\n",
      "7번째 Hello\n",
      "9번째 Hello\n"
     ]
    }
   ],
   "source": [
    "for i in range(1, 10 +1, 2): # start, end, step\n",
    "    print(f\"{i}번째 Hello\")"
   ]
  },
  {
   "cell_type": "code",
   "execution_count": 154,
   "id": "436bfcc4",
   "metadata": {},
   "outputs": [
    {
     "name": "stdout",
     "output_type": "stream",
     "text": [
      "55\n"
     ]
    }
   ],
   "source": [
    "#for 반복문과 range()함수를 사용해서 1부터 10까지의 합을 출력해주세요.\n",
    "sum = 0\n",
    "for i in range(1, 11):\n",
    "   # print(i)\n",
    "    sum = sum + i\n",
    "print(sum)"
   ]
  },
  {
   "cell_type": "code",
   "execution_count": 155,
   "id": "eab459f5",
   "metadata": {},
   "outputs": [
    {
     "name": "stdout",
     "output_type": "stream",
     "text": [
      "1부터 10까지의 곱: 3628800\n"
     ]
    }
   ],
   "source": [
    "# for 반복문과 range()함수를 사용해서 1부터 10까지의 곱을 출력해주세요!\n",
    "# 1부터 10까지의 곱을 저장할 변수를 1로 초기화합니다.\n",
    "total_multiply = 1\n",
    "\n",
    "# range(1, 11)은 1부터 10까지의 숫자를 만들어냅니다.\n",
    "for number in range(1, 11):\n",
    "    total_multiply = total_multiply * number\n",
    "    \n",
    "# 최종 곱셈 결과 출력\n",
    "print(f\"1부터 10까지의 곱: {total_multiply}\")"
   ]
  },
  {
   "cell_type": "code",
   "execution_count": null,
   "id": "e62f8475",
   "metadata": {},
   "outputs": [],
   "source": [
    "while 조건 : \n",
    "    반복할문장들"
   ]
  },
  {
   "cell_type": "code",
   "execution_count": 157,
   "id": "ad9e8f3c",
   "metadata": {},
   "outputs": [
    {
     "name": "stdout",
     "output_type": "stream",
     "text": [
      "1번째 Hello\n",
      "2번째 Hello\n",
      "3번째 Hello\n",
      "4번째 Hello\n",
      "5번째 Hello\n"
     ]
    }
   ],
   "source": [
    "# print('Hello') 5번만 출력\n",
    "\n",
    "i = 1\n",
    "while i <= 5:\n",
    "    print(f\"{i}번째 Hello\")\n",
    "    i = i + 1 #"
   ]
  },
  {
   "cell_type": "code",
   "execution_count": 163,
   "id": "3f6c6a66",
   "metadata": {},
   "outputs": [
    {
     "name": "stdout",
     "output_type": "stream",
     "text": [
      "1부터 15까지의 합: 120\n"
     ]
    }
   ],
   "source": [
    "# while문을 이용해서 1부터 사용자로부터 입력받은 정수값까지의 합을 구해주세요.\n",
    "end_num = int(input(\"정수를입력하세요: \"))\n",
    "total_sum = 0\n",
    "i = 1\n",
    "\n",
    "# i가 end_num보다 작거나 같을 때까지 반복\n",
    "while i <= end_num:\n",
    "    total_sum += i\n",
    "    i += 1\n",
    "    \n",
    "print(f\"1부터 {end_num}까지의 합: {total_sum}\")\n"
   ]
  },
  {
   "cell_type": "code",
   "execution_count": 165,
   "id": "f4cb7239",
   "metadata": {},
   "outputs": [
    {
     "name": "stdout",
     "output_type": "stream",
     "text": [
      "1부터 10까지의 곱: 3628800\n"
     ]
    }
   ],
   "source": [
    "# while문을 이용해서 1부터 사용자로부터 입력받은 정수값까지의 곱을 구해주세요.\n",
    "end_num = int(input(\"정수를입력하세요: \"))\n",
    "total_multiply = 1\n",
    "i = 1\n",
    "\n",
    "while i <= end_num:\n",
    "    total_multiply *= i\n",
    "    i += 1\n",
    "print(f\"1부터 {end_num}까지의 곱: {total_multiply}\")"
   ]
  },
  {
   "cell_type": "code",
   "execution_count": 166,
   "id": "2ab5395c",
   "metadata": {},
   "outputs": [
    {
     "name": "stdout",
     "output_type": "stream",
     "text": [
      "7 * 1 = 7\n",
      "7 * 2 = 14\n",
      "7 * 3 = 21\n",
      "7 * 4 = 28\n",
      "7 * 5 = 35\n",
      "7 * 6 = 42\n",
      "7 * 7 = 49\n",
      "7 * 8 = 56\n",
      "7 * 9 = 63\n"
     ]
    }
   ],
   "source": [
    "#while문을 사용해서 사용자로부터 입력받은 숫자에 해당하는 구구단을 출력해주세요!\n",
    "\n",
    "a = int(input())\n",
    "i = 1\n",
    "while i <= 9:\n",
    "    print(f\"{a} * {i} = {a*i}\")\n",
    "    i+=1\n"
   ]
  },
  {
   "cell_type": "markdown",
   "id": "92c95b36",
   "metadata": {},
   "source": [
    "#### break, continue"
   ]
  },
  {
   "cell_type": "code",
   "execution_count": null,
   "id": "423fe9f8",
   "metadata": {},
   "outputs": [
    {
     "name": "stdout",
     "output_type": "stream",
     "text": [
      "정수: 6, 합계: 21\n"
     ]
    }
   ],
   "source": [
    "#1부터 10까지 더하되, 합이 20 이상이 되는 때의 정수값을 찾고싶어.\n",
    "\n",
    "sum = 0\n",
    "for i in range(1, 10+1):\n",
    "    sum += i\n",
    "    if sum >= 20:\n",
    "        print(f\"정수: {i}, 합계: {sum}\")\n",
    "        break \n"
   ]
  },
  {
   "cell_type": "code",
   "execution_count": 170,
   "id": "7bb0c022",
   "metadata": {},
   "outputs": [
    {
     "name": "stdout",
     "output_type": "stream",
     "text": [
      "124578"
     ]
    }
   ],
   "source": [
    "for i in range(10):\n",
    "    if i % 3 == 0:\n",
    "        continue\n",
    "    print(i, end=\"\")"
   ]
  },
  {
   "cell_type": "code",
   "execution_count": null,
   "id": "97abcde9",
   "metadata": {},
   "outputs": [],
   "source": [
    "import random\n",
    "\n",
    "# 컴퓨터가 1부터 100 사이의 숫자를 랜덤으로 정합니다.\n",
    "answer = random.randint(1, 100)\n",
    "\n",
    "# 정답을 맞출 때까지 반복합니다.\n",
    "while True:\n",
    "    # 사용자로부터 숫자를 입력받고 정수로 변환합니다.\n",
    "    user_guess = int(input(\"1부터 100 사이의 숫자를 맞춰주세요: \"))\n",
    "\n",
    "    # 사용자가 입력한 숫자와 정답을 비교합니다.\n",
    "    if user_guess > answer:\n",
    "        print(\"너무 커요\")\n",
    "    elif user_guess < answer:\n",
    "        print(\"너무 작아요\")\n",
    "    else:\n",
    "        # 정답을 맞췄다면 \"정답입니다\"를 출력하고 반복문을 종료합니다.\n",
    "        print(\"정답입니다.\")\n",
    "        break"
   ]
  },
  {
   "cell_type": "code",
   "execution_count": 177,
   "id": "649b7d91",
   "metadata": {},
   "outputs": [
    {
     "name": "stdout",
     "output_type": "stream",
     "text": [
      "1\n",
      "2\n",
      "4\n",
      "7\n",
      "8\n",
      "11\n",
      "13\n",
      "14\n",
      "16\n",
      "17\n",
      "19\n"
     ]
    }
   ],
   "source": [
    "# 20보다 작은 정수 중에서 3의 배수와 5의 배수를 제외하고 출력해봅시다.\n",
    "\n",
    "num = 1\n",
    "while True :\n",
    "    if num > 20:\n",
    "        break\n",
    "    if num % 3 == 0 or num % 5 == 0:\n",
    "        num += 1\n",
    "        continue\n",
    "    print(num)\n",
    "    num += 1"
   ]
  },
  {
   "cell_type": "code",
   "execution_count": 178,
   "id": "0eb06214",
   "metadata": {},
   "outputs": [
    {
     "name": "stdout",
     "output_type": "stream",
     "text": [
      "1\n",
      "2\n",
      "3 continue\n",
      "4\n",
      "5 continue\n",
      "6 continue\n",
      "7\n",
      "8\n",
      "9 continue\n",
      "10 continue\n",
      "11\n",
      "12 continue\n",
      "13\n",
      "14\n",
      "15 continue\n",
      "16\n",
      "17\n",
      "18 continue\n",
      "19\n",
      "20 break\n"
     ]
    }
   ],
   "source": [
    "i=0\n",
    "while True:\n",
    "    i += 1\n",
    "    if i >= 20:\n",
    "        print(f\"{i} break\")\n",
    "        break\n",
    "    if i % 3 == 0 or i % 5 == 0:\n",
    "        print(f\"{i} continue\")\n",
    "        continue\n",
    "    print(i)"
   ]
  },
  {
   "cell_type": "code",
   "execution_count": 179,
   "id": "920f1aa8",
   "metadata": {},
   "outputs": [
    {
     "name": "stdout",
     "output_type": "stream",
     "text": [
      "2 * 1 = 2\n",
      "2 * 2 = 4\n",
      "2 * 3 = 6\n",
      "2 * 4 = 8\n",
      "2 * 5 = 10\n",
      "2 * 6 = 12\n",
      "2 * 7 = 14\n",
      "2 * 8 = 16\n",
      "2 * 9 = 18\n",
      "3 * 1 = 3\n",
      "3 * 2 = 6\n",
      "3 * 3 = 9\n",
      "3 * 4 = 12\n",
      "3 * 5 = 15\n",
      "3 * 6 = 18\n",
      "3 * 7 = 21\n",
      "3 * 8 = 24\n",
      "3 * 9 = 27\n",
      "4 * 1 = 4\n",
      "4 * 2 = 8\n",
      "4 * 3 = 12\n",
      "4 * 4 = 16\n",
      "4 * 5 = 20\n",
      "4 * 6 = 24\n",
      "4 * 7 = 28\n",
      "4 * 8 = 32\n",
      "4 * 9 = 36\n",
      "5 * 1 = 5\n",
      "5 * 2 = 10\n",
      "5 * 3 = 15\n",
      "5 * 4 = 20\n",
      "5 * 5 = 25\n",
      "5 * 6 = 30\n",
      "5 * 7 = 35\n",
      "5 * 8 = 40\n",
      "5 * 9 = 45\n",
      "6 * 1 = 6\n",
      "6 * 2 = 12\n",
      "6 * 3 = 18\n",
      "6 * 4 = 24\n",
      "6 * 5 = 30\n",
      "6 * 6 = 36\n",
      "6 * 7 = 42\n",
      "6 * 8 = 48\n",
      "6 * 9 = 54\n",
      "7 * 1 = 7\n",
      "7 * 2 = 14\n",
      "7 * 3 = 21\n",
      "7 * 4 = 28\n",
      "7 * 5 = 35\n",
      "7 * 6 = 42\n",
      "7 * 7 = 49\n",
      "7 * 8 = 56\n",
      "7 * 9 = 63\n",
      "8 * 1 = 8\n",
      "8 * 2 = 16\n",
      "8 * 3 = 24\n",
      "8 * 4 = 32\n",
      "8 * 5 = 40\n",
      "8 * 6 = 48\n",
      "8 * 7 = 56\n",
      "8 * 8 = 64\n",
      "8 * 9 = 72\n",
      "9 * 1 = 9\n",
      "9 * 2 = 18\n",
      "9 * 3 = 27\n",
      "9 * 4 = 36\n",
      "9 * 5 = 45\n",
      "9 * 6 = 54\n",
      "9 * 7 = 63\n",
      "9 * 8 = 72\n",
      "9 * 9 = 81\n"
     ]
    }
   ],
   "source": [
    "# dan = 2 ~ 9\n",
    "\n",
    "for dan in range(2, 10):\n",
    "   for i in range(1, 10):\n",
    "    print(f\"{dan} * {i} = { dan * i}\")"
   ]
  },
  {
   "cell_type": "code",
   "execution_count": 180,
   "id": "70a2b2da",
   "metadata": {},
   "outputs": [
    {
     "name": "stdout",
     "output_type": "stream",
     "text": [
      "         *\n",
      "        ***\n",
      "       *****\n",
      "      *******\n",
      "     *********\n",
      "    ***********\n",
      "   *************\n",
      "  ***************\n",
      " *****************\n",
      "*******************\n"
     ]
    }
   ],
   "source": [
    "# 문자열 반복연산\n",
    "# 중첩반복문\n",
    "\n",
    "# 피라미드의 높이 설정\n",
    "height = 10\n",
    "\n",
    "# 바깥쪽 반복문: 줄(row)을 제어합니다.\n",
    "for i in range(1, height + 1):\n",
    "    \n",
    "    # 공백(띄어쓰기) 출력: 별을 가운데로 정렬하기 위해 사용합니다.\n",
    "    # (총 높이 - 현재 줄 번호) 만큼의 공백을 출력합니다.\n",
    "    for j in range(height - i):\n",
    "        print(' ', end='')\n",
    "        \n",
    "    # 별(*) 출력: (현재 줄 번호 * 2 - 1) 만큼의 별을 출력합니다.\n",
    "    for k in range(2 * i - 1):\n",
    "        print('*', end='')\n",
    "    \n",
    "    # 줄바꿈: 한 줄의 출력이 끝나면 다음 줄로 넘어갑니다.\n",
    "    print()"
   ]
  }
 ],
 "metadata": {
  "kernelspec": {
   "display_name": "Python 3",
   "language": "python",
   "name": "python3"
  },
  "language_info": {
   "codemirror_mode": {
    "name": "ipython",
    "version": 3
   },
   "file_extension": ".py",
   "mimetype": "text/x-python",
   "name": "python",
   "nbconvert_exporter": "python",
   "pygments_lexer": "ipython3",
   "version": "3.11.8"
  }
 },
 "nbformat": 4,
 "nbformat_minor": 5
}

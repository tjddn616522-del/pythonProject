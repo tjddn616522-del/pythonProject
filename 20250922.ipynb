{
 "cells": [
  {
   "cell_type": "markdown",
   "id": "6d8ed80b",
   "metadata": {},
   "source": [
    "#### 2025 - 09 -22"
   ]
  },
  {
   "cell_type": "code",
   "execution_count": 8,
   "id": "583a87cf",
   "metadata": {},
   "outputs": [
    {
     "name": "stdout",
     "output_type": "stream",
     "text": [
      "         *\n",
      "        ***\n",
      "       *****\n",
      "      *******\n",
      "     *********\n",
      "    ***********\n",
      "   *************\n",
      "  ***************\n",
      " *****************\n",
      "*******************\n"
     ]
    }
   ],
   "source": [
    "n = 10\n",
    "for i in range(1, n + 1):\n",
    "    for j in range(n-i):\n",
    "        print(' ',end='')\n",
    "    for j in range(2 * i - 1):\n",
    "        print('*',end='')\n",
    "    print()"
   ]
  },
  {
   "cell_type": "code",
   "execution_count": null,
   "id": "9775f896",
   "metadata": {},
   "outputs": [],
   "source": [
    "for, while에서의 탈출 -> break\n",
    "중첩반복문에서의 탈출???"
   ]
  },
  {
   "cell_type": "code",
   "execution_count": 15,
   "id": "dd15f6cd",
   "metadata": {},
   "outputs": [
    {
     "name": "stdout",
     "output_type": "stream",
     "text": [
      "(i = 0, j=0)\n",
      "(i = 0, j=1)\n",
      "(i = 0, j=2)\n",
      "(i = 0, j=3)\n",
      "(i = 0, j=4)\n",
      "(i = 1, j=0)\n",
      "(i = 1, j=1)\n",
      "(i = 1, j=2)\n",
      "(i = 1, j=3)\n",
      "(i = 1, j=4)\n",
      "(i = 2, j=0)\n",
      "(i = 2, j=1)\n",
      "(i = 2, j=2)\n",
      "(i = 2, j=3)\n"
     ]
    }
   ],
   "source": [
    "number = 0\n",
    "for i in range(5):\n",
    "    for j in range(5):\n",
    "        print(f\"(i = {i}, j={j})\")\n",
    "        if  i == 2 and j == 3:\n",
    "           # 반복을 멈추고 싶어요 plz\n",
    "           # number = i * j\n",
    "         if i == 2 and j ==3:\n",
    "            break\n",
    "    if i ==2 and j ==3:\n",
    "       break\n",
    "\n",
    "\n"
   ]
  },
  {
   "cell_type": "code",
   "execution_count": 17,
   "id": "b0b8e434",
   "metadata": {},
   "outputs": [
    {
     "name": "stdout",
     "output_type": "stream",
     "text": [
      "*\n",
      "**\n",
      "***\n",
      "*****\n",
      "******\n",
      "*******\n",
      "******\n"
     ]
    }
   ],
   "source": [
    "### 사용자로부터 n개의 별의 갯수를 입력바은 뒤\n",
    "# 별을 출력하되 별의 갯수만큼만 출력하다가 별이 다 소진되면 다 멈 추는 코드작성\n",
    "# 트리의 최대 높이는 10층\n",
    "\n",
    "# 사용자로부터 n개의 별의 개수 입력 받기\n",
    "n = int(input(\"별의 총 개수를 입력하세요: \"))\n",
    "\n",
    "# 트리의 최대 높이는 10층으로 가정\n",
    "max_height = 10\n",
    "\n",
    "# 트리를 만들기 위한 바깥 for 반복문 (층 높이)\n",
    "for i in range(1, max_height + 1):\n",
    "    # 만약 남은 별의 개수가 0이거나 음수면 루프를 즉시 종료\n",
    "    if n <= 0:\n",
    "        break\n",
    "\n",
    "    # 각 층에 필요한 별의 개수 계산\n",
    "    # 이미지에 나온 패턴(1, 2, 3, 5, 6, 7, 8...)은\n",
    "    # 1, 2, 3은 1씩 증가하고, 그 다음부터 5, 6, 7, 8은 1씩 증가하는 것처럼 보여\n",
    "    # 하지만 3층에서 5층으로 갈 때 2개가 증가하는 불규칙적인 패턴이야\n",
    "    # 따라서 이 패턴을 코드로 직접 구현하는 대신, 각 층마다 별이 몇 개 필요한지를\n",
    "    # 리스트로 만들어서 사용하자\n",
    "    # 예시: 1층: 1개, 2층: 2개, 3층: 3개, 4층: 5개, 5층: 6개, ...\n",
    "    \n",
    "    stars_per_floor = [1, 2, 3, 5, 6, 7, 8, 9, 10, 11] # 이미지 패턴에 맞춰 별의 개수 리스트 생성\n",
    "    \n",
    "    # 층 번호(i)는 1부터 시작하므로 인덱스(i-1)로 접근\n",
    "    if i > len(stars_per_floor):\n",
    "        # 만약 정의된 층보다 더 높은 층이라면, 일반적인 1씩 증가 패턴을 가정\n",
    "        stars_needed = stars_per_floor[-1] + (i - len(stars_per_floor))\n",
    "    else:\n",
    "        stars_needed = stars_per_floor[i-1]\n",
    "        \n",
    "    # 만약 남은 별의 개수가 현재 층에 필요한 별의 개수보다 적으면\n",
    "    if n < stars_needed:\n",
    "        # 남은 별의 개수만큼만 출력하고 루프를 종료\n",
    "        print(\"*\" * n)\n",
    "        break\n",
    "    else:\n",
    "        # 현재 층의 별을 모두 출력\n",
    "        print(\"*\" * stars_needed)\n",
    "        # 남은 별의 개수 갱신\n",
    "        n -= stars_needed\n",
    "\n"
   ]
  },
  {
   "cell_type": "code",
   "execution_count": 18,
   "id": "8c5c7bb3",
   "metadata": {},
   "outputs": [],
   "source": [
    "my_str = \"Hello, Python\""
   ]
  },
  {
   "cell_type": "code",
   "execution_count": null,
   "id": "b3eb3418",
   "metadata": {},
   "outputs": [
    {
     "data": {
      "text/plain": [
       "'P'"
      ]
     },
     "execution_count": 19,
     "metadata": {},
     "output_type": "execute_result"
    }
   ],
   "source": [
    "# 인덱싱\n",
    "my_str[7]"
   ]
  },
  {
   "cell_type": "code",
   "execution_count": null,
   "id": "f08c0a39",
   "metadata": {},
   "outputs": [
    {
     "data": {
      "text/plain": [
       "'n'"
      ]
     },
     "execution_count": 21,
     "metadata": {},
     "output_type": "execute_result"
    }
   ],
   "source": [
    "# 음수인덱싱\n",
    "my_str[-1]"
   ]
  },
  {
   "cell_type": "code",
   "execution_count": null,
   "id": "655d9dce",
   "metadata": {},
   "outputs": [
    {
     "data": {
      "text/plain": [
       "'Pyth'"
      ]
     },
     "execution_count": 23,
     "metadata": {},
     "output_type": "execute_result"
    }
   ],
   "source": [
    "# 여러개의 문자열을 가져와야할때(슬라이싱)\n",
    "# [start:end:step]\n",
    "my_str[7:11]"
   ]
  },
  {
   "cell_type": "code",
   "execution_count": 24,
   "id": "872f9b41",
   "metadata": {},
   "outputs": [
    {
     "data": {
      "text/plain": [
       "'Hlo yhn'"
      ]
     },
     "execution_count": 24,
     "metadata": {},
     "output_type": "execute_result"
    }
   ],
   "source": [
    "my_str[::2]"
   ]
  },
  {
   "cell_type": "code",
   "execution_count": 26,
   "id": "879d22a1",
   "metadata": {},
   "outputs": [
    {
     "data": {
      "text/plain": [
       "str"
      ]
     },
     "execution_count": 26,
     "metadata": {},
     "output_type": "execute_result"
    }
   ],
   "source": [
    "type(my_str)"
   ]
  },
  {
   "cell_type": "code",
   "execution_count": 27,
   "id": "eb114052",
   "metadata": {},
   "outputs": [
    {
     "data": {
      "text/plain": [
       "13"
      ]
     },
     "execution_count": 27,
     "metadata": {},
     "output_type": "execute_result"
    }
   ],
   "source": [
    "len(my_str)"
   ]
  },
  {
   "cell_type": "code",
   "execution_count": 30,
   "id": "39efdd49",
   "metadata": {},
   "outputs": [
    {
     "name": "stdout",
     "output_type": "stream",
     "text": [
      "H\n",
      "e\n",
      "l\n",
      "l\n",
      "o\n",
      ",\n",
      " \n",
      "P\n",
      "y\n",
      "t\n",
      "h\n",
      "o\n",
      "n\n"
     ]
    }
   ],
   "source": [
    "for i in my_str:\n",
    "    print(i)"
   ]
  },
  {
   "cell_type": "code",
   "execution_count": 31,
   "id": "e2864e4c",
   "metadata": {},
   "outputs": [
    {
     "data": {
      "text/plain": [
       "'hello, python'"
      ]
     },
     "execution_count": 31,
     "metadata": {},
     "output_type": "execute_result"
    }
   ],
   "source": [
    "# 문자열 데이터의 여러가지 기능들\n",
    "\n",
    "my_str.lower()"
   ]
  },
  {
   "cell_type": "code",
   "execution_count": 32,
   "id": "59254e99",
   "metadata": {},
   "outputs": [
    {
     "data": {
      "text/plain": [
       "'HELLO, PYTHON'"
      ]
     },
     "execution_count": 32,
     "metadata": {},
     "output_type": "execute_result"
    }
   ],
   "source": [
    "my_str.upper()"
   ]
  },
  {
   "cell_type": "code",
   "execution_count": 33,
   "id": "baae3e39",
   "metadata": {},
   "outputs": [
    {
     "name": "stdout",
     "output_type": "stream",
     "text": [
      "['Hello', ' Python']\n"
     ]
    }
   ],
   "source": [
    "words = my_str.split(',')\n",
    "print(words)"
   ]
  },
  {
   "cell_type": "markdown",
   "id": "ddb3c181",
   "metadata": {},
   "source": [
    "## 컬렉션자료형"
   ]
  },
  {
   "cell_type": "markdown",
   "id": "01262693",
   "metadata": {},
   "source": [
    "#### 리스트"
   ]
  },
  {
   "cell_type": "code",
   "execution_count": null,
   "id": "7586cc5c",
   "metadata": {},
   "outputs": [],
   "source": [
    "리스트 : 복수의 데이터를 순서대로 저장하고 조작하는 기본 자료형"
   ]
  },
  {
   "cell_type": "code",
   "execution_count": 38,
   "id": "f6ac2bee",
   "metadata": {},
   "outputs": [],
   "source": [
    "numbers = [1, 2, 3, 4, 5]"
   ]
  },
  {
   "cell_type": "code",
   "execution_count": null,
   "id": "b5ede248",
   "metadata": {},
   "outputs": [],
   "source": [
    "fruits = ['apple, 'banana', 'mango']"
   ]
  },
  {
   "cell_type": "code",
   "execution_count": 40,
   "id": "3f7157b3",
   "metadata": {},
   "outputs": [],
   "source": [
    "numbers1 = [1, 2, 3, 4, 5]\n",
    "numbers2 = [6, 7, 8, 9, 10]"
   ]
  },
  {
   "cell_type": "code",
   "execution_count": 41,
   "id": "63d1122d",
   "metadata": {},
   "outputs": [
    {
     "data": {
      "text/plain": [
       "[1, 2, 3, 4, 5, 6, 7, 8, 9, 10]"
      ]
     },
     "execution_count": 41,
     "metadata": {},
     "output_type": "execute_result"
    }
   ],
   "source": [
    "numbers1 + numbers2"
   ]
  },
  {
   "cell_type": "code",
   "execution_count": null,
   "id": "fbc77182",
   "metadata": {},
   "outputs": [],
   "source": [
    "# 반복문을 이용해서 리스트를 간단하게 생성 -> 리스트컴프리헨션\n",
    "numbers = [i for i in range(10)]"
   ]
  },
  {
   "cell_type": "code",
   "execution_count": 44,
   "id": "29f39c20",
   "metadata": {},
   "outputs": [
    {
     "data": {
      "text/plain": [
       "[0, 1, 2, 3, 4, 5, 6, 7, 8, 9]"
      ]
     },
     "execution_count": 44,
     "metadata": {},
     "output_type": "execute_result"
    }
   ],
   "source": [
    "numbers"
   ]
  },
  {
   "cell_type": "code",
   "execution_count": 45,
   "id": "3a47f641",
   "metadata": {},
   "outputs": [
    {
     "data": {
      "text/plain": [
       "[0, 1, 2, 3, 4, 5, 6, 7, 8, 9]"
      ]
     },
     "execution_count": 45,
     "metadata": {},
     "output_type": "execute_result"
    }
   ],
   "source": [
    "num_list= []\n",
    "for i in range(10):\n",
    "    # print(i)\n",
    "    num_list.append(i)\n",
    "num_list"
   ]
  },
  {
   "cell_type": "code",
   "execution_count": 46,
   "id": "fe7bdbad",
   "metadata": {},
   "outputs": [
    {
     "name": "stdout",
     "output_type": "stream",
     "text": [
      "1번 학생은 합격입니다.\n",
      "2번 학생은 불합격입니다.\n",
      "3번 학생은 합격입니다.\n",
      "4번 학생은 불합격입니다.\n",
      "5번 학생은 합격입니다.\n"
     ]
    }
   ],
   "source": [
    "# 총 5명의 학생이 시험을 보았는데 시험 점수가 60점 이상이면 합격이고 그렇지 않으면 불합격이다.\n",
    "# 합격인지, 불합격인지 결과를 보여 주시오.\n",
    "\n",
    "marks = [90, 25, 67, 45, 80]  # 학생들의 시험 점수 리스트\n",
    "\n",
    "\n",
    "\n",
    "# 각 학생의 점수를 확인하고 합격/불합격 여부를 출력\n",
    "for i in range(len(marks)):\n",
    "    # 점수가 60점 이상이면 '합격'\n",
    "    if marks[i] >= 60:\n",
    "        print(f\"{i+1}번 학생은 합격입니다.\")\n",
    "    # 아니면 '불합격'\n",
    "    else:\n",
    "        print(f\"{i+1}번 학생은 불합격입니다.\")"
   ]
  },
  {
   "cell_type": "code",
   "execution_count": null,
   "id": "93601571",
   "metadata": {},
   "outputs": [],
   "source": []
  },
  {
   "cell_type": "code",
   "execution_count": null,
   "id": "0edb5457",
   "metadata": {},
   "outputs": [
    {
     "name": "stdout",
     "output_type": "stream",
     "text": [
      "끝말잇기 게임\n",
      "시작\n",
      "가나다\n",
      "딩동댕\n",
      "땡\n",
      "'미'으로 시작하는 단어를 입력해야 합니다.\n"
     ]
    }
   ],
   "source": [
    "### 끝말잇기게임\n",
    "\n",
    "import random\n",
    "\n",
    "print(\"끝말잇기 게임\")\n",
    "print(\"시작\")\n",
    "\n",
    "# 시작 단어 리스트\n",
    "start_words = [\"가나다\", \"바나나\", \"사과\", \"자동차\", \"코끼리\"]\n",
    "# 무작위로 시작 단어 선택\n",
    "word = random.choice(start_words)\n",
    "\n",
    "print(word)\n",
    "\n",
    "while True:\n",
    "    # 플레이어로부터 단어 입력받기\n",
    "    user_input = input(\"단어를 입력해주세요 : \")\n",
    "    \n",
    "    # '포기'를 입력하면 게임 종료\n",
    "    if user_input == \"포기\":\n",
    "        print(\"게임을 포기했습니다. 다음에 다시 도전해주세요.\")\n",
    "        break\n",
    "    \n",
    "    # 끝말잇기 규칙 검사\n",
    "    if user_input[0] == word[-1]:\n",
    "        print(\"딩동댕\")\n",
    "        word = user_input\n",
    "    else:\n",
    "        print(\"땡\")\n",
    "        print(f\"'{word[-1]}'으로 시작하는 단어를 입력해야 합니다.\")\n",
    "        \n",
    "        # '땡'이 나오면 게임 종료\n",
    "        break"
   ]
  },
  {
   "cell_type": "code",
   "execution_count": null,
   "id": "da13a9ce",
   "metadata": {},
   "outputs": [],
   "source": [
    "# 리스트 numbers 각 원소는 숫자 0부터 9까지로 이루어져 있습니다. 이때, numbers에서\n",
    "# 연속적으로 나타나는 숫자는 하나만 남기고 전부 제거하려고 합니다. 단, 제거된 후 남은\n",
    "# 수들을 반환할 때는 numbers의 원소들의 순서를 유지해야 합니다. 예를 들면, \n",
    "\n",
    "numbers = [1, 1, 3, 3, 0, 1, 1] -> [1, 3, 0, 1]\n",
    "numbers = [4, 4, 4, 3, 3] -> [4,3]\n",
    "\n"
   ]
  },
  {
   "cell_type": "code",
   "execution_count": 58,
   "id": "e10777a4",
   "metadata": {},
   "outputs": [
    {
     "name": "stdout",
     "output_type": "stream",
     "text": [
      "[1, 3, 0, 1]\n"
     ]
    }
   ],
   "source": [
    "# 코드를 작성해주세요.\n",
    "\n",
    "numbers = [1, 1, 3, 3, 0, 1, 1]\n",
    "answer = []\n",
    "\n",
    "# 첫 번째 원소를 answer에 추가하고 comp에 저장\n",
    "comp = numbers[0]\n",
    "answer.append(comp)\n",
    "\n",
    "# 두 번째 원소부터 반복\n",
    "for i in numbers[1:]:\n",
    "    if comp != i:\n",
    "        answer.append(i)  # i를 answer에 추가\n",
    "        comp = i          # 새로운 값을 comp에 저장\n",
    "\n",
    "print(answer)"
   ]
  },
  {
   "cell_type": "markdown",
   "id": "40e6538e",
   "metadata": {},
   "source": [
    "#### 딕셔너리"
   ]
  },
  {
   "cell_type": "code",
   "execution_count": 60,
   "id": "fa5fb990",
   "metadata": {},
   "outputs": [],
   "source": [
    "student = {'name' : 'jimin', 'age' : 29, 'hobby' : 'game' }"
   ]
  },
  {
   "cell_type": "code",
   "execution_count": 61,
   "id": "ccaf76a1",
   "metadata": {},
   "outputs": [
    {
     "data": {
      "text/plain": [
       "dict"
      ]
     },
     "execution_count": 61,
     "metadata": {},
     "output_type": "execute_result"
    }
   ],
   "source": [
    "type(student)"
   ]
  },
  {
   "cell_type": "code",
   "execution_count": null,
   "id": "676a1ca2",
   "metadata": {},
   "outputs": [],
   "source": [
    "mylist = {}\n",
    "mylist = dict()"
   ]
  },
  {
   "cell_type": "code",
   "execution_count": 63,
   "id": "cf95c88c",
   "metadata": {},
   "outputs": [
    {
     "data": {
      "text/plain": [
       "29"
      ]
     },
     "execution_count": 63,
     "metadata": {},
     "output_type": "execute_result"
    }
   ],
   "source": [
    "student['age']"
   ]
  },
  {
   "cell_type": "code",
   "execution_count": 64,
   "id": "622db42c",
   "metadata": {},
   "outputs": [
    {
     "data": {
      "text/plain": [
       "dict_keys(['name', 'age', 'hobby'])"
      ]
     },
     "execution_count": 64,
     "metadata": {},
     "output_type": "execute_result"
    }
   ],
   "source": [
    "student.keys()"
   ]
  },
  {
   "cell_type": "code",
   "execution_count": 65,
   "id": "6d992dca",
   "metadata": {},
   "outputs": [
    {
     "data": {
      "text/plain": [
       "dict_values(['jimin', 29, 'game'])"
      ]
     },
     "execution_count": 65,
     "metadata": {},
     "output_type": "execute_result"
    }
   ],
   "source": [
    "student.values()"
   ]
  },
  {
   "cell_type": "code",
   "execution_count": 66,
   "id": "dddd16df",
   "metadata": {},
   "outputs": [
    {
     "data": {
      "text/plain": [
       "dict_items([('name', 'jimin'), ('age', 29), ('hobby', 'game')])"
      ]
     },
     "execution_count": 66,
     "metadata": {},
     "output_type": "execute_result"
    }
   ],
   "source": [
    "student.items()"
   ]
  },
  {
   "cell_type": "code",
   "execution_count": 67,
   "id": "de8e8b27",
   "metadata": {},
   "outputs": [
    {
     "name": "stdout",
     "output_type": "stream",
     "text": [
      "name\n",
      "age\n",
      "hobby\n"
     ]
    }
   ],
   "source": [
    "for i in student.keys():\n",
    "    print(i)"
   ]
  },
  {
   "cell_type": "code",
   "execution_count": 76,
   "id": "77ec8ba6",
   "metadata": {},
   "outputs": [
    {
     "name": "stdout",
     "output_type": "stream",
     "text": [
      "\".... . .-.. .-.. ---\" -> \"hello\"\n",
      "\"--. -.-- --\" -> \"gym\"\n"
     ]
    }
   ],
   "source": [
    "def morse_to_text(letter):\n",
    "    # 1. 모스 부호 규칙표 (딕셔너리)\n",
    "    morse = {\n",
    "        '.-': 'a', '-...': 'b', '-.-.': 'c', '-..': 'd', '.': 'e', '..-.': 'f',\n",
    "        '--.': 'g', '....': 'h', '..': 'i', '.---': 'j', '-.-': 'k', '.-..': 'l',\n",
    "        '--': 'm', '-.': 'n', '---': 'o', '.--.': 'p', '--.-': 'q', '.-.': 'r',\n",
    "        '...': 's', '-': 't', '..-': 'u', '...-': 'v', '.--': 'w', '-..-': 'x',\n",
    "        '-.--': 'y', '--..': 'z'\n",
    "    }\n",
    "\n",
    "    # 2. 공백을 기준으로 모스 부호를 분리\n",
    "    morse_codes = letter.split(' ')\n",
    "\n",
    "    # 3. 빈 문자열을 만들고, 반복문을 돌며 모스 부호를 영어로 변환해 더하기\n",
    "    result = \"\"\n",
    "    for code in morse_codes:\n",
    "        # morse 딕셔너리에서 'code'에 해당하는 값을 찾아 'result'에 추가\n",
    "        result += morse[code]\n",
    "        \n",
    "    return result\n",
    "\n",
    "# --- 사용 예시 ---\n",
    "letter1 = \".... . .-.. .-.. ---\"\n",
    "print(f'\"{letter1}\" -> \"{morse_to_text(letter1)}\"')  # \"hello\"가 출력됩니다.\n",
    "\n",
    "letter2 = \"--. -.-- --\"\n",
    "print(f'\"{letter2}\" -> \"{morse_to_text(letter2)}\"')  # \"python\"이 출력됩니다."
   ]
  },
  {
   "cell_type": "markdown",
   "id": "74e728b3",
   "metadata": {},
   "source": [
    "### set 자료형"
   ]
  },
  {
   "cell_type": "code",
   "execution_count": null,
   "id": "92907415",
   "metadata": {},
   "outputs": [],
   "source": [
    "중복을 허용하지 않고, 순서가 없는 데이터"
   ]
  },
  {
   "cell_type": "code",
   "execution_count": 78,
   "id": "5e2dbca0",
   "metadata": {},
   "outputs": [],
   "source": [
    "s = {1, 2, 3, 4, 2, 3}"
   ]
  },
  {
   "cell_type": "code",
   "execution_count": 80,
   "id": "d5c70745",
   "metadata": {},
   "outputs": [
    {
     "data": {
      "text/plain": [
       "set"
      ]
     },
     "execution_count": 80,
     "metadata": {},
     "output_type": "execute_result"
    }
   ],
   "source": [
    "type(s)"
   ]
  },
  {
   "cell_type": "code",
   "execution_count": null,
   "id": "d9839e45",
   "metadata": {},
   "outputs": [],
   "source": []
  }
 ],
 "metadata": {
  "kernelspec": {
   "display_name": "Python 3",
   "language": "python",
   "name": "python3"
  },
  "language_info": {
   "codemirror_mode": {
    "name": "ipython",
    "version": 3
   },
   "file_extension": ".py",
   "mimetype": "text/x-python",
   "name": "python",
   "nbconvert_exporter": "python",
   "pygments_lexer": "ipython3",
   "version": "3.11.8"
  }
 },
 "nbformat": 4,
 "nbformat_minor": 5
}

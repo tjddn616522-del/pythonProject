{
 "cells": [
  {
   "cell_type": "markdown",
   "id": "061f1d1a",
   "metadata": {},
   "source": [
    "## 2025-09-23"
   ]
  },
  {
   "cell_type": "code",
   "execution_count": 2,
   "id": "bbdcd95e",
   "metadata": {},
   "outputs": [
    {
     "name": "stdout",
     "output_type": "stream",
     "text": [
      "1\n"
     ]
    }
   ],
   "source": [
    "a = 1\n",
    "def vartest(a):\n",
    "    a = a + 1\n",
    "\n",
    "vartest(a)\n",
    "print(a)"
   ]
  },
  {
   "cell_type": "code",
   "execution_count": 2,
   "id": "cd44c7a3",
   "metadata": {},
   "outputs": [
    {
     "name": "stdout",
     "output_type": "stream",
     "text": [
      "2\n"
     ]
    }
   ],
   "source": [
    "a = 1\n",
    "\n",
    "def vartest():\n",
    "    global a  # 함수 안에서 'a'가 전역 변수임을 알려줍니다.\n",
    "    a = a + 1\n",
    "\n",
    "vartest()\n",
    "print(a)"
   ]
  },
  {
   "cell_type": "code",
   "execution_count": 3,
   "id": "f2d1dee8",
   "metadata": {},
   "outputs": [],
   "source": [
    "def say_myself(name, age, man=True):\n",
    "    print(f'{name}, {age}')\n",
    "    print(man)"
   ]
  },
  {
   "cell_type": "code",
   "execution_count": 4,
   "id": "8c50e2a1",
   "metadata": {},
   "outputs": [
    {
     "name": "stdout",
     "output_type": "stream",
     "text": [
      "jimin, 29\n",
      "False\n"
     ]
    }
   ],
   "source": [
    "say_myself('jimin', 29, False)"
   ]
  },
  {
   "cell_type": "code",
   "execution_count": 10,
   "id": "dc0046a5",
   "metadata": {},
   "outputs": [
    {
     "name": "stdout",
     "output_type": "stream",
     "text": [
      "[(52, 19, 52), (255, 0, 255), (39, 227, 39), (132, 132, 137)]\n",
      "(52, 19, 52)\n",
      "<class 'tuple'>\n"
     ]
    }
   ],
   "source": [
    "## 내장 함수를 활용한 예제\n",
    "# zip\n",
    "\n",
    "# \n",
    "r = (52, 255, 39, 132)\n",
    "g = (19, 0, 227, 132)\n",
    "b = (52, 255, 39, 137)\n",
    "\n",
    "img = list(zip(r, g, b))\n",
    "print(img)\\\n",
    "\n",
    "print(img[0])\n",
    "print(type(img[0]))"
   ]
  },
  {
   "cell_type": "code",
   "execution_count": null,
   "id": "e0a62472",
   "metadata": {},
   "outputs": [],
   "source": [
    "f = ('apple', 'banana', 'cherry', 'date')"
   ]
  },
  {
   "cell_type": "code",
   "execution_count": 2,
   "id": "f920ebe0",
   "metadata": {},
   "outputs": [
    {
     "data": {
      "text/plain": [
       "<enumerate at 0x29242cdbc40>"
      ]
     },
     "execution_count": 2,
     "metadata": {},
     "output_type": "execute_result"
    }
   ],
   "source": [
    "enumerate(f)"
   ]
  },
  {
   "cell_type": "code",
   "execution_count": 3,
   "id": "40fa0a59",
   "metadata": {},
   "outputs": [
    {
     "data": {
      "text/plain": [
       "{0: 'apple', 1: 'banana', 2: 'cherry', 3: 'date'}"
      ]
     },
     "execution_count": 3,
     "metadata": {},
     "output_type": "execute_result"
    }
   ],
   "source": [
    "dict(enumerate(f))"
   ]
  },
  {
   "cell_type": "code",
   "execution_count": 4,
   "id": "e2b5a2a6",
   "metadata": {},
   "outputs": [],
   "source": [
    "mylist = [ 1, 2, 3, 4, 5]\n",
    "# -> [2, 3, 4, 5, 6]"
   ]
  },
  {
   "cell_type": "code",
   "execution_count": 5,
   "id": "2af20d28",
   "metadata": {},
   "outputs": [
    {
     "name": "stdout",
     "output_type": "stream",
     "text": [
      "[2, 3, 4, 5, 6]\n"
     ]
    }
   ],
   "source": [
    "result = []\n",
    "for i in mylist:\n",
    "    result.append(i + 1)\n",
    "\n",
    "print(result)"
   ]
  },
  {
   "cell_type": "code",
   "execution_count": 9,
   "id": "e71ff308",
   "metadata": {},
   "outputs": [
    {
     "data": {
      "text/plain": [
       "[2, 3, 4, 5, 6]"
      ]
     },
     "execution_count": 9,
     "metadata": {},
     "output_type": "execute_result"
    }
   ],
   "source": [
    "mylist = [ 1, 2, 3, 4, 5]\n",
    "\n",
    "def add_one(n):\n",
    "    return n + 1\n",
    "\n",
    "result = list(map(add_one,mylist))\n",
    "result"
   ]
  },
  {
   "cell_type": "code",
   "execution_count": null,
   "id": "2bfc3826",
   "metadata": {},
   "outputs": [],
   "source": [
    "for i in range(len(mylist)):\n",
    "    add_one(mylist[i])"
   ]
  },
  {
   "cell_type": "code",
   "execution_count": 10,
   "id": "2e350bb4",
   "metadata": {},
   "outputs": [
    {
     "data": {
      "text/plain": [
       "[3, -6, 100, 25]"
      ]
     },
     "execution_count": 10,
     "metadata": {},
     "output_type": "execute_result"
    }
   ],
   "source": [
    "mylist = [ 3.14, -5.6, 100.4, 25.0]\n",
    "\n",
    "result = list(map(round,mylist))\n",
    "result"
   ]
  },
  {
   "cell_type": "code",
   "execution_count": 11,
   "id": "da3d01d1",
   "metadata": {},
   "outputs": [],
   "source": [
    "a = [8, 3, 2, 10, 15, 7, 1, 0, 11]"
   ]
  },
  {
   "cell_type": "code",
   "execution_count": 12,
   "id": "e2dabdde",
   "metadata": {},
   "outputs": [],
   "source": [
    "def f(x):\n",
    "    return x > 5 and x < 10"
   ]
  },
  {
   "cell_type": "code",
   "execution_count": 13,
   "id": "5d0acf20",
   "metadata": {},
   "outputs": [
    {
     "data": {
      "text/plain": [
       "[8, 7]"
      ]
     },
     "execution_count": 13,
     "metadata": {},
     "output_type": "execute_result"
    }
   ],
   "source": [
    "list(filter(f, a))"
   ]
  },
  {
   "cell_type": "code",
   "execution_count": null,
   "id": "6a1b774b",
   "metadata": {},
   "outputs": [],
   "source": [
    "result = []\n",
    "for i in a:\n",
    "    if i > 5 and i <10:\n",
    "        result.append(i)\n",
    "\n",
    "result"
   ]
  },
  {
   "cell_type": "code",
   "execution_count": 16,
   "id": "7e0d844e",
   "metadata": {},
   "outputs": [
    {
     "name": "stdout",
     "output_type": "stream",
     "text": [
      "[1, 4, 9, 16]\n"
     ]
    }
   ],
   "source": [
    "# 람다 함수의 사용 예\n",
    "# map: 시퀀스의 각 요소에 함수를 적용하여 새로운 시퀀스를 반환.\n",
    "\n",
    "numbers = [1, 2, 3, 4]\n",
    "squared = list(map(lambda x: x**2, numbers))\n",
    "print(squared)"
   ]
  },
  {
   "cell_type": "code",
   "execution_count": 17,
   "id": "2e98bca5",
   "metadata": {},
   "outputs": [
    {
     "name": "stdout",
     "output_type": "stream",
     "text": [
      "[2, 4, 6]\n"
     ]
    }
   ],
   "source": [
    "numbers = [1, 2, 3, 4, 5, 6]\n",
    "even_numbers = list(filter(lambda x: x % 2==0, numbers))\n",
    "print(even_numbers)"
   ]
  },
  {
   "cell_type": "code",
   "execution_count": 18,
   "id": "75327cee",
   "metadata": {},
   "outputs": [
    {
     "data": {
      "text/plain": [
       "[6, 5, 4, 3, 2, 1]"
      ]
     },
     "execution_count": 18,
     "metadata": {},
     "output_type": "execute_result"
    }
   ],
   "source": [
    "numbers.sort(reverse=True)\n",
    "numbers"
   ]
  },
  {
   "cell_type": "code",
   "execution_count": 19,
   "id": "69eaa4ab",
   "metadata": {},
   "outputs": [],
   "source": [
    "numbers = [1, 2, 3, 4, 5, 6]"
   ]
  },
  {
   "cell_type": "code",
   "execution_count": null,
   "id": "a713e8fb",
   "metadata": {},
   "outputs": [],
   "source": [
    "my_numbers = sorted(numbers, reverse=True)"
   ]
  },
  {
   "cell_type": "code",
   "execution_count": 21,
   "id": "daaf0050",
   "metadata": {},
   "outputs": [
    {
     "data": {
      "text/plain": [
       "[1, 2, 3, 4, 5, 6]"
      ]
     },
     "execution_count": 21,
     "metadata": {},
     "output_type": "execute_result"
    }
   ],
   "source": [
    "numbers"
   ]
  },
  {
   "cell_type": "code",
   "execution_count": 22,
   "id": "936bdd59",
   "metadata": {},
   "outputs": [
    {
     "data": {
      "text/plain": [
       "[6, 5, 4, 3, 2, 1]"
      ]
     },
     "execution_count": 22,
     "metadata": {},
     "output_type": "execute_result"
    }
   ],
   "source": [
    "my_numbers"
   ]
  },
  {
   "cell_type": "code",
   "execution_count": 24,
   "id": "b6f8e131",
   "metadata": {},
   "outputs": [],
   "source": [
    "fruits = ['apple', 'banana', 'cherry', 'date']"
   ]
  },
  {
   "cell_type": "code",
   "execution_count": 25,
   "id": "2acd66a3",
   "metadata": {},
   "outputs": [
    {
     "data": {
      "text/plain": [
       "['date', 'apple', 'banana', 'cherry']"
      ]
     },
     "execution_count": 25,
     "metadata": {},
     "output_type": "execute_result"
    }
   ],
   "source": [
    "myfruits = sorted(fruits,key=len)\n",
    "myfruits"
   ]
  },
  {
   "cell_type": "code",
   "execution_count": 27,
   "id": "8929c8a9",
   "metadata": {},
   "outputs": [
    {
     "name": "stdout",
     "output_type": "stream",
     "text": [
      "[(5, 1), (1, 2), (3, 4)]\n"
     ]
    }
   ],
   "source": [
    "points = [(1, 2), (3, 4), (5, 1)]\n",
    "sorted_points = sorted(points, key=lambda x: x[1])\n",
    "print(sorted_points)"
   ]
  },
  {
   "cell_type": "code",
   "execution_count": null,
   "id": "06733725",
   "metadata": {},
   "outputs": [],
   "source": [
    "[(5, 1),(1, 2),(3, 4)]"
   ]
  },
  {
   "cell_type": "code",
   "execution_count": null,
   "id": "951699b9",
   "metadata": {},
   "outputs": [],
   "source": [
    "등수 구하기\n",
    "\n",
    "# 영어 점수와 수학 점수의 평균점수를 기준으로 학생들의 등수를 매기려고합니다.\n",
    "# 영어 점수와 수학 점수를 담은 2차원 리시트 score가 주어질 때, 영어 점수와 수학 점수의 평균을\n",
    "# 기준으로 매긴 등수를 담은 리스트를 return하도록 함수를 만들어주세요.\n",
    "[[80, 70], [90, 50], [40, 70], [50, 80]] -> [1, 2, 4, 3]\n",
    "[[80, 70], [70, 80], [30, 50], [90, 100], [100, 90], [100, 100], [10, 30]] -> [4, 4, 6, 2, 2, 1, 7]\n",
    "\n",
    "\n",
    "def rank(score):\n",
    "    pass\n",
    "\n"
   ]
  },
  {
   "cell_type": "code",
   "execution_count": 33,
   "id": "eb35f863",
   "metadata": {},
   "outputs": [],
   "source": [
    "score1 = [[80, 70], [90, 50], [40, 70], [50, 80]]\n",
    "rank(score2) # [1, 2, ,4 ,3]\n",
    "\n",
    "score2 = [[80, 70], [70, 80], [30, 50], [90, 100], [100, 90], [100, 100], [10, 30]]\n",
    "rank(score2) # [4, 4, 6, 2, 2, 1, 7]\n",
    "\n",
    "\n",
    "def rank(score):\n",
    "    # 1. 평균값을 가진 리스트를 만듭니다.\n",
    "    avg = [sum(s) / 2 for s in score]\n",
    "\n",
    "    # 2. 평균값을 내림차순으로 정렬합니다.\n",
    "    avg_sort = sorted(avg, reverse=True)\n",
    "    \n",
    "    # 3. 각 학생의 등수를 계산하고 result 리스트에 추가합니다.\n",
    "    result = []\n",
    "    for i in avg:\n",
    "        # i의 등수는 i보다 큰 점수들의 개수 + 1 입니다.\n",
    "        rank_count = 0\n",
    "        for sorted_avg in avg_sort:\n",
    "            if i < sorted_avg:\n",
    "                rank_count += 1\n",
    "            else:\n",
    "                break\n",
    "        result.append(rank_count + 1)\n",
    "        \n",
    "    return result"
   ]
  },
  {
   "cell_type": "code",
   "execution_count": 34,
   "id": "db678bbd",
   "metadata": {},
   "outputs": [],
   "source": [
    "def rank(score):\n",
    "    # 1. 각 학생의 평균 점수를 계산합니다.\n",
    "    averages = [sum(s) / 2 for s in score]\n",
    "\n",
    "    # 2. 평균 점수를 내림차순으로 정렬하여 등수 기준을 만듭니다.\n",
    "    sorted_averages = sorted(averages, reverse=True)\n",
    "\n",
    "    # 3. 원래 순서대로 등수를 계산하여 리스트에 저장합니다.\n",
    "    ranks = []\n",
    "    for avg in averages:\n",
    "        current_rank = 0\n",
    "        for sorted_avg in sorted_averages:\n",
    "            if avg < sorted_avg:\n",
    "                current_rank += 1\n",
    "            else:\n",
    "                break\n",
    "        ranks.append(current_rank + 1)\n",
    "        \n",
    "    return ranks"
   ]
  },
  {
   "cell_type": "code",
   "execution_count": 35,
   "id": "0f5703d4",
   "metadata": {},
   "outputs": [],
   "source": [
    "def rank(score):\n",
    "    avg = [(i+j)/2 for i, j in score]\n",
    "    avg_sort = sorted(avg,reverse=True)\n",
    "    result = [avg_sort.index(i) + 1 for i in avg]\n",
    "    return result"
   ]
  },
  {
   "cell_type": "code",
   "execution_count": null,
   "id": "28093913",
   "metadata": {},
   "outputs": [],
   "source": [
    "소수판별함수 is_prime()\n",
    "[2,3,4,5,6,7,8,9] -> [True, True, False, True, False, True, False, False]\n"
   ]
  },
  {
   "cell_type": "code",
   "execution_count": 47,
   "id": "1b0fb4a5",
   "metadata": {},
   "outputs": [],
   "source": [
    "num_list = [2,3,4,5,6,7,8,9]\n",
    "\n",
    "def is_prime(num_list):\n",
    "    result = []\n",
    "    for num in num_lsit:\n",
    "        isprime = True\n",
    "        for i in range(2, num):\n",
    "            if num % i == 0:\n",
    "                isprime = False\n",
    "                break\n",
    "        result.append(isprime)\n",
    "    return result"
   ]
  },
  {
   "cell_type": "code",
   "execution_count": null,
   "id": "a5c65a20",
   "metadata": {},
   "outputs": [],
   "source": [
    "print(is_prime(num_list))"
   ]
  },
  {
   "cell_type": "code",
   "execution_count": 50,
   "id": "40058178",
   "metadata": {},
   "outputs": [
    {
     "name": "stdout",
     "output_type": "stream",
     "text": [
      "[True, True, False, True, False, True, False, False]\n"
     ]
    }
   ],
   "source": [
    "# 1. 원본 리스트 정의\n",
    "num_list = [2, 3, 4, 5, 6, 7, 8, 9]\n",
    "\n",
    "# 2. 소수 판별 함수 정의\n",
    "def is_prime(num_list):\n",
    "    result = []\n",
    "    # 오타 수정: num_lsit -> num_list\n",
    "    for num in num_list:\n",
    "        isprime = True\n",
    "        # 4는 2로 나눠지니까 2까지만 돌게 됩니다.\n",
    "        for i in range(2, num):\n",
    "            if num % i == 0:\n",
    "                isprime = False\n",
    "                break\n",
    "        result.append(isprime)\n",
    "    return result\n",
    "\n",
    "# 3. 함수 호출 및 결과 출력\n",
    "print(is_prime(num_list))"
   ]
  },
  {
   "cell_type": "code",
   "execution_count": 52,
   "id": "eda57dc0",
   "metadata": {},
   "outputs": [],
   "source": [
    "import random"
   ]
  },
  {
   "cell_type": "code",
   "execution_count": 53,
   "id": "b6e61ae5",
   "metadata": {},
   "outputs": [
    {
     "data": {
      "text/plain": [
       "32"
      ]
     },
     "execution_count": 53,
     "metadata": {},
     "output_type": "execute_result"
    }
   ],
   "source": [
    "random.randint(1, 100)"
   ]
  },
  {
   "cell_type": "code",
   "execution_count": 54,
   "id": "a4c0cadc",
   "metadata": {},
   "outputs": [],
   "source": [
    "import random as r"
   ]
  },
  {
   "cell_type": "code",
   "execution_count": 55,
   "id": "5ce27de2",
   "metadata": {},
   "outputs": [
    {
     "data": {
      "text/plain": [
       "99"
      ]
     },
     "execution_count": 55,
     "metadata": {},
     "output_type": "execute_result"
    }
   ],
   "source": [
    "r.randint(1, 100)"
   ]
  },
  {
   "cell_type": "code",
   "execution_count": 57,
   "id": "94e0c9ca",
   "metadata": {},
   "outputs": [
    {
     "data": {
      "text/plain": [
       "4"
      ]
     },
     "execution_count": 57,
     "metadata": {},
     "output_type": "execute_result"
    }
   ],
   "source": [
    "from random import randint\n",
    "\n",
    "\n",
    "randint(1, 100)\n",
    "random.randrange(1, 5)"
   ]
  },
  {
   "cell_type": "code",
   "execution_count": 58,
   "id": "e2f63fb2",
   "metadata": {},
   "outputs": [
    {
     "name": "stdout",
     "output_type": "stream",
     "text": [
      "[40, 42, 25, 3, 10, 36]\n"
     ]
    }
   ],
   "source": [
    "#### 모듈과 함수\n",
    "# 행운번호 추첨기(무작위 생성된 6개의 숫자 출력)\n",
    "import random\n",
    "\n",
    "# 1부터 45까지의 숫자 중에서 6개를 무작위로 추출\n",
    "result = random.sample(range(1, 46), 6)\n",
    "\n",
    "# 추출된 숫자들을 출력\n",
    "print(result)"
   ]
  },
  {
   "cell_type": "markdown",
   "id": "980afcee",
   "metadata": {},
   "source": [
    "### 사용자정의모듈"
   ]
  },
  {
   "cell_type": "code",
   "execution_count": 71,
   "id": "90b7e070",
   "metadata": {},
   "outputs": [],
   "source": [
    "import mymodule as mm"
   ]
  },
  {
   "cell_type": "code",
   "execution_count": 72,
   "id": "b471bf53",
   "metadata": {},
   "outputs": [
    {
     "name": "stdout",
     "output_type": "stream",
     "text": [
      "10\n",
      "2\n"
     ]
    }
   ],
   "source": [
    "print(mm.my_add(7,3))\n",
    "print(mm.my_sub(6,4))"
   ]
  },
  {
   "cell_type": "markdown",
   "id": "ca5209f0",
   "metadata": {},
   "source": [
    "### 클래스"
   ]
  },
  {
   "cell_type": "code",
   "execution_count": 83,
   "id": "c7334015",
   "metadata": {},
   "outputs": [],
   "source": [
    "class person:\n",
    "    def __init__(self, name, age):\n",
    "        self.name = name\n",
    "        self.age = age\n",
    "    \n",
    "    def walk(self):\n",
    "        print(f'{self.name}이 걸어가요')"
   ]
  },
  {
   "cell_type": "code",
   "execution_count": 84,
   "id": "93a51159",
   "metadata": {},
   "outputs": [],
   "source": [
    "person1 = person(\"박지민\", 31)"
   ]
  },
  {
   "cell_type": "code",
   "execution_count": 85,
   "id": "d29385c6",
   "metadata": {},
   "outputs": [
    {
     "name": "stdout",
     "output_type": "stream",
     "text": [
      "<class '__main__.person'>\n"
     ]
    }
   ],
   "source": [
    "print(type(person1))"
   ]
  },
  {
   "cell_type": "code",
   "execution_count": 86,
   "id": "3336e79c",
   "metadata": {},
   "outputs": [
    {
     "name": "stdout",
     "output_type": "stream",
     "text": [
      "박지민이 걸어가요\n"
     ]
    }
   ],
   "source": [
    "person1.walk()"
   ]
  },
  {
   "cell_type": "code",
   "execution_count": 87,
   "id": "7229a6d2",
   "metadata": {},
   "outputs": [],
   "source": [
    "class NewPerson(person):\n",
    "    pass"
   ]
  },
  {
   "cell_type": "code",
   "execution_count": null,
   "id": "0d3d7af7",
   "metadata": {},
   "outputs": [],
   "source": [
    "person3 = NewPerson(\"정호석\", 33)"
   ]
  },
  {
   "cell_type": "code",
   "execution_count": 91,
   "id": "6f336100",
   "metadata": {},
   "outputs": [
    {
     "name": "stdout",
     "output_type": "stream",
     "text": [
      "정호석이 걸어가요\n"
     ]
    }
   ],
   "source": [
    "person3.walk()"
   ]
  },
  {
   "cell_type": "code",
   "execution_count": 92,
   "id": "95ee14f9",
   "metadata": {},
   "outputs": [],
   "source": [
    "import mymodule as mm"
   ]
  },
  {
   "cell_type": "code",
   "execution_count": 94,
   "id": "ef84f03a",
   "metadata": {},
   "outputs": [
    {
     "data": {
      "text/plain": [
       "3"
      ]
     },
     "execution_count": 94,
     "metadata": {},
     "output_type": "execute_result"
    }
   ],
   "source": [
    "mm.my_add(1, 2)"
   ]
  },
  {
   "cell_type": "markdown",
   "id": "e935ef58",
   "metadata": {},
   "source": [
    "### 결제시스템\n",
    "신용카드, 포인트 결제"
   ]
  },
  {
   "cell_type": "code",
   "execution_count": 97,
   "id": "061420c3",
   "metadata": {},
   "outputs": [],
   "source": [
    "def pay_credit_payment(card_info, amount):\n",
    "    \"\"\"신용카드 결제 로직\"\"\"\n",
    "    print(f\"{card_info['card_number']}카드로 {amount}원 결제합니다.\")\n",
    "    print('결제 완료')\n",
    "\n",
    "def pay_with_point(card_wallet, amount):\n",
    "    if point_wallet['balance'] >= amount:\n",
    "        point_wallet['balance'] -= amount\n",
    "        print(f\" 포인트 {amount}점을 사용해서 결제했습니다.\")\n",
    "\n",
    "    else:\n",
    "        print(\"포인트가 부족합니다.\")"
   ]
  },
  {
   "cell_type": "code",
   "execution_count": 102,
   "id": "d7ceddfb",
   "metadata": {},
   "outputs": [],
   "source": [
    "credit_card = {\n",
    "    'type' : 'credit_card',\n",
    "    'card_number': '1234-5678-xxxx',\n",
    "    'CVC': 123\n",
    "}\n",
    "\n",
    "my_points = {\n",
    "    'type':\"point_wallet\",\n",
    "    'balance': 50000\n",
    "}"
   ]
  },
  {
   "cell_type": "code",
   "execution_count": 104,
   "id": "950978f3",
   "metadata": {},
   "outputs": [],
   "source": [
    "def payment(payment_method, amount):\n",
    "    payment=payment_method['type']\n",
    "\n",
    "    if payment_type == 'credit_card':\n",
    "        pay_credit_payment(payment_method, amount)\n",
    "    elif payment_type == 'point_wallet':\n",
    "        pay_with_point(payment_method, amount)\n",
    "    else:\n",
    "        print(\"지원되지 않는 결제방식\")"
   ]
  },
  {
   "cell_type": "code",
   "execution_count": null,
   "id": "a2a46f22",
   "metadata": {},
   "outputs": [],
   "source": [
    "payment(credit_card, 2500)\n",
    "payment(my_points, 10000)\n",
    "payment(my_points, 50000)"
   ]
  },
  {
   "cell_type": "code",
   "execution_count": 110,
   "id": "9e61ba40",
   "metadata": {},
   "outputs": [],
   "source": [
    "class PaymentMethod:\n",
    "    def pay(self, amount):\n",
    "        print(f\"{amount}원 결제\")"
   ]
  },
  {
   "cell_type": "code",
   "execution_count": 111,
   "id": "74d21498",
   "metadata": {},
   "outputs": [],
   "source": [
    "class CreditCard(PaymentMethod):\n",
    "    def __init__(self, card_number, cvc):\n",
    "        self.card_number = card_number\n",
    "        self.cvc = cvc\n",
    "\n",
    "    def pay(self, amount):\n",
    "        print(f\"{self.card_number}카드로 {amount}원 결제합니다.\")\n",
    "        # 서버 결제 요청\n",
    "        print('결제 완료')\n",
    "\n",
    "class Pointwallet(PaymentMethod):\n",
    "    def __init__(self, balance):\n",
    "        self.balance = balance\n",
    "    \n",
    "    def pay(self, amount):\n",
    "        if self.balance >= amount:\n",
    "            self.balance -= amount\n",
    "            print(f\"포인트 {amount}점을 사용해서 결제했습니다.\")\n",
    "        else:\n",
    "            print(\"포인트가 부족합니다.\")\n",
    "            "
   ]
  },
  {
   "cell_type": "code",
   "execution_count": 113,
   "id": "28affeb6",
   "metadata": {},
   "outputs": [],
   "source": [
    "def process_payment(payment_method, amount):\n",
    "    payment_method.pay(amount)\n",
    "\n",
    "card_obj = CreditCard(\"44444-4444-xxxxxx\", 444) \n",
    "point_obj = Pointwallet(50000)"
   ]
  },
  {
   "cell_type": "code",
   "execution_count": 115,
   "id": "5d9aedba",
   "metadata": {},
   "outputs": [
    {
     "name": "stdout",
     "output_type": "stream",
     "text": [
      "44444-4444-xxxxxx카드로 1000원 결제합니다.\n",
      "결제 완료\n",
      "포인트 10000점을 사용해서 결제했습니다.\n",
      "포인트가 부족합니다.\n"
     ]
    }
   ],
   "source": [
    "process_payment(card_obj, 1000)\n",
    "process_payment(point_obj, 10000)\n",
    "process_payment(point_obj, 50000)"
   ]
  },
  {
   "cell_type": "code",
   "execution_count": 117,
   "id": "74e97666",
   "metadata": {},
   "outputs": [
    {
     "name": "stdout",
     "output_type": "stream",
     "text": [
      "Collecting numpy\n",
      "  Downloading numpy-2.3.3-cp311-cp311-win_amd64.whl.metadata (60 kB)\n",
      "     ---------------------------------------- 0.0/60.9 kB ? eta -:--:--\n",
      "     ---------------------------------------- 60.9/60.9 kB 1.1 MB/s eta 0:00:00\n",
      "Downloading numpy-2.3.3-cp311-cp311-win_amd64.whl (13.1 MB)\n",
      "   ---------------------------------------- 0.0/13.1 MB ? eta -:--:--\n",
      "   -- ------------------------------------- 0.7/13.1 MB 21.1 MB/s eta 0:00:01\n",
      "   ------- -------------------------------- 2.3/13.1 MB 36.8 MB/s eta 0:00:01\n",
      "   ----------------- ---------------------- 5.7/13.1 MB 45.7 MB/s eta 0:00:01\n",
      "   ------------------------- -------------- 8.5/13.1 MB 49.2 MB/s eta 0:00:01\n",
      "   ---------------------------------- ----- 11.3/13.1 MB 59.5 MB/s eta 0:00:01\n",
      "   ---------------------------------------- 13.1/13.1 MB 65.5 MB/s eta 0:00:00\n",
      "Installing collected packages: numpy\n",
      "Successfully installed numpy-2.3.3\n"
     ]
    },
    {
     "name": "stderr",
     "output_type": "stream",
     "text": [
      "\n",
      "[notice] A new release of pip is available: 24.0 -> 25.2\n",
      "[notice] To update, run: python.exe -m pip install --upgrade pip\n"
     ]
    }
   ],
   "source": [
    "!pip install numpy"
   ]
  },
  {
   "cell_type": "code",
   "execution_count": 118,
   "id": "6c3c8e21",
   "metadata": {},
   "outputs": [],
   "source": [
    "import numpy"
   ]
  },
  {
   "cell_type": "code",
   "execution_count": 119,
   "id": "39ad8691",
   "metadata": {},
   "outputs": [
    {
     "name": "stdout",
     "output_type": "stream",
     "text": [
      "Collecting beautifulsoup4\n",
      "  Downloading beautifulsoup4-4.13.5-py3-none-any.whl.metadata (3.8 kB)\n",
      "Collecting soupsieve>1.2 (from beautifulsoup4)\n",
      "  Downloading soupsieve-2.8-py3-none-any.whl.metadata (4.6 kB)\n",
      "Requirement already satisfied: typing-extensions>=4.0.0 in c:\\users\\user\\appdata\\roaming\\python\\python311\\site-packages (from beautifulsoup4) (4.15.0)\n",
      "Downloading beautifulsoup4-4.13.5-py3-none-any.whl (105 kB)\n",
      "   ---------------------------------------- 0.0/105.1 kB ? eta -:--:--\n",
      "   -------------------------------------- - 102.4/105.1 kB 2.9 MB/s eta 0:00:01\n",
      "   ---------------------------------------- 105.1/105.1 kB 3.0 MB/s eta 0:00:00\n",
      "Downloading soupsieve-2.8-py3-none-any.whl (36 kB)\n",
      "Installing collected packages: soupsieve, beautifulsoup4\n",
      "Successfully installed beautifulsoup4-4.13.5 soupsieve-2.8\n"
     ]
    },
    {
     "name": "stderr",
     "output_type": "stream",
     "text": [
      "\n",
      "[notice] A new release of pip is available: 24.0 -> 25.2\n",
      "[notice] To update, run: python.exe -m pip install --upgrade pip\n"
     ]
    }
   ],
   "source": [
    "!pip install beautifulsoup4"
   ]
  },
  {
   "cell_type": "code",
   "execution_count": 120,
   "id": "c340f48e",
   "metadata": {},
   "outputs": [],
   "source": [
    "from bs4 import BeautifulSoup"
   ]
  }
 ],
 "metadata": {
  "kernelspec": {
   "display_name": "Python 3",
   "language": "python",
   "name": "python3"
  },
  "language_info": {
   "codemirror_mode": {
    "name": "ipython",
    "version": 3
   },
   "file_extension": ".py",
   "mimetype": "text/x-python",
   "name": "python",
   "nbconvert_exporter": "python",
   "pygments_lexer": "ipython3",
   "version": "3.11.8"
  }
 },
 "nbformat": 4,
 "nbformat_minor": 5
}
